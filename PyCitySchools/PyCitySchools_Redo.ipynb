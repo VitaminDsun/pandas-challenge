{
 "cells": [
  {
   "cell_type": "markdown",
   "metadata": {},
   "source": [
    "### Note\n",
    "* Instructions have been included for each segment. You do not have to follow them exactly, but they are included to help you think through the steps."
   ]
  },
  {
   "cell_type": "code",
   "execution_count": null,
   "metadata": {},
   "outputs": [],
   "source": [
    "# Setup\n",
    "import pandas as pd\n",
    "\n",
    "# File to Load\n",
    "Sxhool_Data = \"Resources/schools_complete.csv\"\n",
    "student_DatX = \"Resources/students_complete.csv\""
   ]
  },
  {
   "cell_type": "code",
   "execution_count": null,
   "metadata": {},
   "outputs": [],
   "source": [
    "# Read School and Student Files,store in pandas as data frame\n",
    "sxhool_Data = pd.read_csv(Sxhool_Data)\n",
    "student_DatX = pd.read_csv(student_DatX)\n",
    "\n",
    "# merge the data into one data set  \n",
    "sxhool_Student_data = pd.merge(student_DatX, sxhool_Data, how=\"left\", on=[\"school_name\", \"school_name\"])"
   ]
  },
  {
   "cell_type": "code",
   "execution_count": null,
   "metadata": {},
   "outputs": [],
   "source": [
    "sxhool_Student_data.head(15)"
   ]
  },
  {
   "cell_type": "code",
   "execution_count": null,
   "metadata": {},
   "outputs": [],
   "source": [
    "sxhool_Student_data.describe()"
   ]
  },
  {
   "cell_type": "code",
   "execution_count": null,
   "metadata": {},
   "outputs": [],
   "source": [
    "sxhool_Student_data.columns\n"
   ]
  },
  {
   "cell_type": "markdown",
   "metadata": {},
   "source": [
    "District Summary\n",
    "Calculate the total number of schools\n",
    "\n",
    "Calculate the total number of students\n",
    "\n",
    "Calculate the total budget\n",
    "\n",
    "Calculate the average math score\n",
    "\n",
    "Calculate the average reading score\n",
    "\n",
    "Calculate the percentage of students with a passing math score (70 or greater)\n",
    "\n",
    "Calculate the percentage of students with a passing reading score (70 or greater)\n",
    "\n",
    "Calculate the percentage of students who passed math and reading (% Overall Passing)\n",
    "\n",
    "Create a dataframe to hold the above results\n",
    "\n",
    "Optional: give the displayed data cleaner formatting"
   ]
  },
  {
   "cell_type": "code",
   "execution_count": null,
   "metadata": {
    "scrolled": true
   },
   "outputs": [],
   "source": [
    "# Calculate the total schools.\n",
    "\n",
    "unique_school_name=sxhool_Student_data['school_name'].unique()\n",
    "\n",
    "total_school=len(unique_school_name)\n",
    "\n",
    "total_school"
   ]
  },
  {
   "cell_type": "code",
   "execution_count": null,
   "metadata": {},
   "outputs": [],
   "source": [
    "# Calculate the total students.\n",
    "total_students=sxhool_Student_data[\"student_name\"].count()\n",
    "\n",
    "total_students"
   ]
  },
  {
   "cell_type": "code",
   "execution_count": null,
   "metadata": {},
   "outputs": [],
   "source": [
    "# Calculate the total budget.\n",
    "total_budget = sxhool_Data[\"budget\"].sum()\n",
    "\n",
    "total_budget"
   ]
  },
  {
   "cell_type": "code",
   "execution_count": null,
   "metadata": {},
   "outputs": [],
   "source": [
    "# Calculate the average math score.\n",
    "average_math_score = sxhool_Student_data[\"math_score\"].mean()\n",
    "\n",
    "average_math_score"
   ]
  },
  {
   "cell_type": "code",
   "execution_count": null,
   "metadata": {},
   "outputs": [],
   "source": [
    "# Calculate the average reading score\n",
    "average_reading_score = sxhool_Student_data[\"reading_score\"].mean()\n",
    "\n",
    "average_reading_score"
   ]
  },
  {
   "cell_type": "code",
   "execution_count": null,
   "metadata": {},
   "outputs": [],
   "source": [
    "# percentage of students with a passing math score (70 < x )\n",
    "\n",
    "students_passing_math = sxhool_Student_data.loc[sxhool_Student_data[\"math_score\"] >= 70]\n",
    "number_students_passing_math = students_passing_math[\"Student ID\"].count()\n",
    "percent_passing_math = (number_students_passing_math / total_students) * 100\n",
    "\n",
    "percent_passing_math"
   ]
  },
  {
   "cell_type": "code",
   "execution_count": null,
   "metadata": {},
   "outputs": [],
   "source": [
    "# percentage of students with a passing reading score (70 < x )\n",
    "students_passing_reading = sxhool_Student_data.loc[sxhool_Student_data[\"reading_score\"] >= 70]\n",
    "number_students_passing_reading = students_passing_reading[\"Student ID\"].count()\n",
    "percent_passing_reading = (number_students_passing_reading / total_students) * 100\n",
    "\n",
    "percent_passing_reading"
   ]
  },
  {
   "cell_type": "code",
   "execution_count": null,
   "metadata": {},
   "outputs": [],
   "source": [
    "# Calculate the percentage of % Overall Passing\n",
    "Overall_passing = sxhool_Student_data[(sxhool_Student_data['math_score'] >= 70) & (sxhool_Student_data['reading_score'] >= 70)]['Student ID'].count()/total_students*100\n",
    "Overall_passing"
   ]
  },
  {
   "cell_type": "code",
   "execution_count": null,
   "metadata": {},
   "outputs": [],
   "source": [
    "# Create a dataframe to hold the above results.\n",
    "#code was develpted with by classmate M.R. and Tutor.\n",
    "\n",
    "district_summary = pd.DataFrame({\n",
    "    \"Total Schools\": total_school,\n",
    "    \"Total Students\": f\"{total_students:,}\",\n",
    "    \"Total Budget\": f\"${total_budget:,.2f}\",\n",
    "    \"Average Reading Score\": f\"{average_reading_score:.2f}\",\n",
    "    \"% Passing Math\": f\"{percent_passing_math:.2f}\",\n",
    "    \"% Passing Reading\": f\"{percent_passing_reading:.2f}\",\n",
    "    \"% Overall Passing\": f\"{Overall_passing: .2f}\"\n",
    "}, index=[0])\n",
    "\n",
    "district_summary\n"
   ]
  },
  {
   "cell_type": "code",
   "execution_count": null,
   "metadata": {},
   "outputs": [],
   "source": [
    "# Group by school name\n",
    "school_name = sxhool_Student_data.set_index('school_name').groupby(['school_name'])\n"
   ]
  },
  {
   "cell_type": "code",
   "execution_count": null,
   "metadata": {},
   "outputs": [],
   "source": [
    "# school types by school name\n",
    "school_type = sxhool_Data.set_index('school_name')['type']"
   ]
  },
  {
   "cell_type": "code",
   "execution_count": null,
   "metadata": {},
   "outputs": [],
   "source": [
    "#  Calculate total students\n",
    "total_student = school_name['Student ID'].count()"
   ]
  },
  {
   "cell_type": "code",
   "execution_count": null,
   "metadata": {},
   "outputs": [],
   "source": [
    "# Total school budget\n",
    "total_school_budget = sxhool_Data.set_index('school_name')['budget']"
   ]
  },
  {
   "cell_type": "code",
   "execution_count": null,
   "metadata": {},
   "outputs": [],
   "source": [
    "# per student budget\n",
    "budget_per_student = (sxhool_Data.set_index('school_name')['budget']/sxhool_Data.set_index('school_name')['size'])"
   ]
  },
  {
   "cell_type": "code",
   "execution_count": null,
   "metadata": {},
   "outputs": [],
   "source": [
    "# Average Math Score\n",
    "\n",
    "average_math_score = school_name['math_score'].mean()"
   ]
  },
  {
   "cell_type": "code",
   "execution_count": null,
   "metadata": {},
   "outputs": [],
   "source": [
    "# Average Reading Score\n",
    "average_reading_score = school_name['reading_score'].mean()"
   ]
  },
  {
   "cell_type": "code",
   "execution_count": null,
   "metadata": {},
   "outputs": [],
   "source": [
    "# % Passing Math\n",
    "\n",
    "pass_math_percent = sxhool_Student_data[sxhool_Student_data['math_score'] >= 70].groupby('school_name')['Student ID'].count()/total_student*100"
   ]
  },
  {
   "cell_type": "code",
   "execution_count": null,
   "metadata": {},
   "outputs": [],
   "source": [
    "# % Passing Reading\n",
    "\n",
    "pass_read_percent = sxhool_Student_data[sxhool_Student_data['reading_score'] >= 70].groupby('school_name')['Student ID'].count()/total_student*100"
   ]
  },
  {
   "cell_type": "code",
   "execution_count": null,
   "metadata": {},
   "outputs": [],
   "source": [
    "# % Overall Passing (The percentage of students that passed math and reading.\n",
    "\n",
    "overall_pass = sxhool_Student_data[(sxhool_Student_data['reading_score'] >= 70) & (sxhool_Student_data['math_score'] >= 70)].groupby('school_name')['Student ID'].count()/total_student*100"
   ]
  },
  {
   "cell_type": "code",
   "execution_count": null,
   "metadata": {
    "scrolled": true
   },
   "outputs": [],
   "source": [
    "school_summary = pd.DataFrame({\"School Type\": school_type, \"Total Students\": total_student, \"Per Student Budget\": budget_per_student, \"Total School Budget\": total_school_budget, \"Average Math Score\": average_math_score, \"Average Reading Score\": average_reading_score,'% Passing Math': pass_math_percent, '% Passing Reading': pass_read_percent,\"% Overall Passing\": overall_pass})\n",
    "\n",
    "#munging\n",
    "school_summary = school_summary[['School Type', 'Total Students', 'Total School Budget', 'Per Student Budget', 'Average Math Score', 'Average Reading Score', '% Passing Math', '% Passing Reading', '% Overall Passing']]\n",
    "\n",
    "\n",
    "#formatting\n",
    "school_summary.style.format({'Total Students': '{:}',\"Total School Budget\": \"${:,.2f}\", \"Per Student Budget\": \"${:.2f}\", 'Average Math Score': \"{:2f}\", 'Average Reading Score': \"{:2f}\", \"% Passing Math\": \"{:2f}\", \"% Passing Reading\": \"{:2f}\"})"
   ]
  },
  {
   "cell_type": "markdown",
   "metadata": {},
   "source": [
    "# Top Performing Schools (By % Overall Passing)"
   ]
  },
  {
   "cell_type": "code",
   "execution_count": null,
   "metadata": {},
   "outputs": [],
   "source": [
    "# Sort and display the top five schools by passing rate \n",
    "top_perform = school_summary.sort_values(\"% Overall Passing\", ascending = False)\n",
    "top_perform.head().style.format({'Total Students': '{:}', \"Total School Budget\": \"${:,.2f}\", \"Per Student Budget\": \"${:.2f}\", \"% Passing Math\": \"{:2f}\", \"% Passing Reading\": \"{:2f}\", \"% Overall Passing\": \"{:2f}\"})"
   ]
  },
  {
   "cell_type": "markdown",
   "metadata": {},
   "source": [
    "# Bottom Performing Schools (By % Overall Passing)"
   ]
  },
  {
   "cell_type": "code",
   "execution_count": null,
   "metadata": {},
   "outputs": [],
   "source": [
    "# Sort and display the bottom five schools by passing rate \n",
    "bottom_perform = top_perform.tail(10)\n",
    "bottom_perform = bottom_perform.sort_values('% Overall Passing')\n",
    "bottom_perform.style.format({'Total Students': '{: }', \"Total School Budget\": \"${:,.2f}\", \"Per Student Budget\": \"${:.2f}\", \"% Passing Reading\": \"{:2f}\", \"% Passing Math\": \"{:2f}\", \"% Overall Passing\": \"{:2f}\"})"
   ]
  },
  {
   "cell_type": "markdown",
   "metadata": {},
   "source": [
    "## School Summary"
   ]
  },
  {
   "cell_type": "markdown",
   "metadata": {},
   "source": [
    "* Create an overview table that summarizes key metrics about each school, including:\n",
    "  * School Name\n",
    "  * School Type\n",
    "  * Total Students\n",
    "  * Total School Budget\n",
    "  * Per Student Budget\n",
    "  * Average Math Score\n",
    "  * Average Reading Score\n",
    "  * % Passing Math\n",
    "  * % Passing Reading\n",
    "  * % Overall Passing (The percentage of students that passed math **and** reading.)\n",
    "  \n",
    "* Create a dataframe to hold the above results"
   ]
  },
  {
   "cell_type": "code",
   "execution_count": null,
   "metadata": {},
   "outputs": [],
   "source": [
    "# Average Reading Score\n",
    "average_reading_score = school_name['reading_score'].mean()"
   ]
  },
  {
   "cell_type": "code",
   "execution_count": null,
   "metadata": {},
   "outputs": [],
   "source": [
    "# % Passing Math\n",
    "\n",
    "pass_math_percent = sxhool_Student_data[sxhool_Student_data['math_score'] >= 70].groupby('school_name')['Student ID'].count()/total_student*100"
   ]
  },
  {
   "cell_type": "code",
   "execution_count": null,
   "metadata": {},
   "outputs": [],
   "source": [
    "# % Passing Reading\n",
    "\n",
    "pass_read_percent = sxhool_Student_data[sxhool_Student_data['reading_score'] >= 70].groupby('school_name')['Student ID'].count()/total_student*100"
   ]
  },
  {
   "cell_type": "markdown",
   "metadata": {},
   "source": [
    "## Top Performing Schools (By % Overall Passing)"
   ]
  },
  {
   "cell_type": "markdown",
   "metadata": {},
   "source": [
    "* Sort and display the top five performing schools by % overall passing."
   ]
  },
  {
   "cell_type": "code",
   "execution_count": null,
   "metadata": {
    "scrolled": true
   },
   "outputs": [],
   "source": [
    "# Sort and display the top five schools by passing rate \n",
    "top_perform = school_summary.sort_values(\"% Overall Passing\", ascending = False)\n",
    "top_perform.head().style.format({'Total Students': '{:}', \"Total School Budget\": \"${:,.2f}\", \"Per Student Budget\": \"${:.2f}\",  \"% Passing Math\": \"{:2f}\", \"% Passing Reading\": \"{:2f}\", \"% Overall Passing\": \"{:2f}\"})"
   ]
  },
  {
   "cell_type": "markdown",
   "metadata": {},
   "source": [
    "## Bottom Performing Schools (By % Overall Passing)"
   ]
  },
  {
   "cell_type": "markdown",
   "metadata": {},
   "source": [
    "* Sort and display the five worst-performing schools by % overall passing."
   ]
  },
  {
   "cell_type": "code",
   "execution_count": null,
   "metadata": {},
   "outputs": [],
   "source": [
    "# Sort and display the bottom five schools by passing rate \n",
    "bottom_perform = top_perform.tail(10)\n",
    "bottom_perform = bottom_perform.sort_values('% Overall Passing')\n",
    "bottom_perform.style.format({'Total Students': '{: }', \"Total School Budget\": \"${:,.2f}\", \"Per Student Budget\": \"${:.2f}\", \"% Passing Math\": \"{:2f}\", \"% Passing Reading\": \"{:2f}\", \"% Overall Passing\": \"{:2f}\"})"
   ]
  },
  {
   "cell_type": "markdown",
   "metadata": {
    "collapsed": true
   },
   "source": [
    "## Math Scores by Grade"
   ]
  },
  {
   "cell_type": "markdown",
   "metadata": {},
   "source": [
    "* Create a table that lists the average Reading Score for students of each grade level (9th, 10th, 11th, 12th) at each school.\n",
    "\n",
    "  * Create a pandas series for each grade. Hint: use a conditional statement.\n",
    "  \n",
    "  * Group each series by school\n",
    "  \n",
    "  * Combine the series into a dataframe\n",
    "  \n",
    "  * Optional: give the displayed data cleaner formatting"
   ]
  },
  {
   "cell_type": "code",
   "execution_count": null,
   "metadata": {},
   "outputs": [],
   "source": [
    "#creates grade level average math scores for each school \n",
    "ninth_math = student_DatX.loc[student_DatX['grade'] == '9th'].groupby('school_name')[\"math_score\"].mean()\n",
    "tenth_math = student_DatX.loc[student_DatX['grade'] == '10th'].groupby('school_name')[\"math_score\"].mean()\n",
    "eleventh_math = student_DatX.loc[student_DatX['grade'] == '11th'].groupby('school_name')[\"math_score\"].mean()\n",
    "twelfth_math = student_DatX.loc[student_DatX['grade'] == '12th'].groupby('school_name')[\"math_score\"].mean()\n",
    "\n",
    "math_scores = pd.DataFrame({ \"9th\": ninth_math, \"10th\": tenth_math, \"11th\": eleventh_math, \"12th\": twelfth_math})\n",
    "\n",
    "math_scores = math_scores[['9th', '10th', '11th', '12th']]\n",
    "math_scores.index.name = \"School Name\"\n",
    "\n",
    "#show and format\n",
    "math_scores.style.format({ '9th': '{:.2f}', \"10th\": '{:.2f}', \"11th\": \"{:.2f}\", \"12th\": \"{:.2f}\"})"
   ]
  },
  {
   "cell_type": "markdown",
   "metadata": {},
   "source": [
    "## Reading Score by Grade "
   ]
  },
  {
   "cell_type": "markdown",
   "metadata": {},
   "source": [
    "* Perform the same operations as above for reading scores"
   ]
  },
  {
   "cell_type": "code",
   "execution_count": null,
   "metadata": {},
   "outputs": [],
   "source": [
    "#creates grade level average reading scores for each school\n",
    "ninth_reading = student_DatX.loc[student_DatX['grade'] == '9th'].groupby('school_name')[\"reading_score\"].mean()\n",
    "tenth_reading = student_DatX.loc[student_DatX['grade'] == '10th'].groupby('school_name')[\"reading_score\"].mean()\n",
    "eleventh_reading = student_DatX.loc[student_DatX['grade'] == '11th'].groupby('school_name')[\"reading_score\"].mean()\n",
    "twelfth_reading = student_DatX.loc[student_DatX['grade'] == '12th'].groupby('school_name')[\"reading_score\"].mean()\n",
    "\n",
    "#merges the reading score averages by school and grade together\n",
    "reading_scores = pd.DataFrame({\"9th\": ninth_reading, \"10th\": tenth_reading, \"11th\": eleventh_reading, \"12th\": twelfth_reading})\n",
    "\n",
    "reading_scores = reading_scores[['9th', '10th', '11th', '12th']]\n",
    "reading_scores.index.name = \"School Name\"\n",
    "\n",
    "#format\n",
    "reading_scores.style.format({'9th': '{:.2f}', \"10th\": '{:.2f}', \"11th\": \"{:.2f}\", \"12th\": \"{:.2f}\"})"
   ]
  },
  {
   "cell_type": "markdown",
   "metadata": {},
   "source": [
    "## Scores by School Spending"
   ]
  },
  {
   "cell_type": "markdown",
   "metadata": {},
   "source": [
    "* Create a table that breaks down school performances based on average Spending Ranges (Per Student). Use 4 reasonable bins to group school spending. Include in the table each of the following:\n",
    "  * Average Math Score\n",
    "  * Average Reading Score\n",
    "  * % Passing Math\n",
    "  * % Passing Reading\n",
    "  * Overall Passing Rate (Average of the above two)"
   ]
  },
  {
   "cell_type": "code",
   "execution_count": null,
   "metadata": {},
   "outputs": [],
   "source": [
    "# create spending bins\n",
    "bins = [0, 584, 629, 644, 675]\n",
    "group_name = [\"<$584\", \"$585-629\", \"$630-644\", \"$645-675\"]\n",
    "sxhool_Student_data['spending_bins'] = pd.cut(sxhool_Student_data['budget']/sxhool_Student_data['size'], bins, labels = group_name)\n",
    "\n",
    "#group by spending\n",
    "by_spending = sxhool_Student_data.groupby('spending_bins')\n",
    "avg_math = by_spending['math_score'].mean()\n",
    "avg_read = by_spending['reading_score'].mean()\n",
    "pass_math = sxhool_Student_data[sxhool_Student_data['math_score'] >= 70].groupby('spending_bins')['Student ID'].count()/by_spending['Student ID'].count()*100\n",
    "pass_read = sxhool_Student_data[sxhool_Student_data['reading_score'] >= 70].groupby('spending_bins')['Student ID'].count()/by_spending['Student ID'].count()*100\n",
    "overall = sxhool_Student_data[(sxhool_Student_data['reading_score'] >= 70) & (sxhool_Student_data['math_score'] >= 70)].groupby('spending_bins')['Student ID'].count()/by_spending['Student ID'].count()*100\n",
    "    \n",
    "# df build            \n",
    "scores_by_spend = pd.DataFrame({\"Average Math Score\": avg_math, \"Average Reading Score\": avg_read,\"% Passing Math\": pass_math,\"% Passing Reading\": pass_read,\"% Overall Passing\": overall})\n",
    "            \n",
    "#reorder columns\n",
    "scores_by_spend = scores_by_spend[[\"Average Math Score\",\"Average Reading Score\",\"% Passing Math\", \"% Passing Reading\",\"% Overall Passing\"]]\n",
    "\n",
    "scores_by_spend.index.name = \"Per Student Budget\"\n",
    "\n",
    "#formating\n",
    "scores_by_spend.style.format({'Average Math Score': '{:.2f}','Average Reading Score': '{:.2f}', '% Passing Reading':'{:.2f}','% Passing Math': '{:.2f}','% Overall Passing': '{:.2f}'})"
   ]
  },
  {
   "cell_type": "markdown",
   "metadata": {},
   "source": [
    "## Scores by School Size"
   ]
  },
  {
   "cell_type": "markdown",
   "metadata": {},
   "source": [
    "* Perform the same operations as above, based on school size."
   ]
  },
  {
   "cell_type": "code",
   "execution_count": null,
   "metadata": {
    "scrolled": true
   },
   "outputs": [],
   "source": [
    "# create size bins for \n",
    "bins = [0, 1000, 1999,5000]\n",
    "group_name = [\"Small (<1000)\", \"Medium (1000-2000)\" , \"Large (2000-5000)\"]\n",
    "sxhool_Student_data['size_bins'] = pd.cut(sxhool_Student_data['size'], bins, labels = group_name)\n",
    "\n",
    "#group by spending\n",
    "by_size = sxhool_Student_data.groupby('size_bins')\n",
    "\n",
    "#calculations \n",
    "average_math_score = by_size['math_score'].mean()\n",
    "average_reading_score = by_size['math_score'].mean()\n",
    "pass_math_percent = sxhool_Student_data[sxhool_Student_data['math_score'] >= 70].groupby('size_bins')['Student ID'].count()/by_size['Student ID'].count()*100\n",
    "pass_read_percent = sxhool_Student_data[sxhool_Student_data['reading_score'] >= 70].groupby('size_bins')['Student ID'].count()/by_size['Student ID'].count()*100\n",
    "overall = sxhool_Student_data[(sxhool_Student_data['reading_score'] >= 70) & (sxhool_Student_data['math_score'] >= 70)].groupby('size_bins')['Student ID'].count()/by_size['Student ID'].count()*100\n",
    "  \n",
    "# df build            \n",
    "scores_by_size = pd.DataFrame({\"Average Math Score\": average_math_score,\"Average Reading Score\": average_reading_score,'% Passing Math': pass_math_percent,'% Passing Reading': pass_read_percent,'% Overall Passing': overall})\n",
    "            \n",
    "#reorder columns\n",
    "scores_by_size = scores_by_size[[\"Average Math Score\",\"Average Reading Score\",'% Passing Math','% Passing Reading','% Overall Passing']]\n",
    "\n",
    "scores_by_size.index.name = \"Total Students\"\n",
    "scores_by_size = scores_by_size.reindex(group_name)\n",
    "\n",
    "#formating\n",
    "scores_by_size.style.format({'Average Math Score': '{:.2f}','Average Reading Score': '{:.2f}','% Passing Math': '{:.2f}', '% Passing Reading':'{:.2f}', '% Overall Passing': '{:.2f}'})"
   ]
  },
  {
   "cell_type": "markdown",
   "metadata": {},
   "source": [
    "## Scores by School Type"
   ]
  },
  {
   "cell_type": "markdown",
   "metadata": {},
   "source": [
    "* Perform the same operations as above, based on school type"
   ]
  },
  {
   "cell_type": "code",
   "execution_count": null,
   "metadata": {},
   "outputs": [],
   "source": [
    "# group by school type\n",
    "schoo_type = sxhool_Student_data.groupby(\"type\")\n",
    "\n",
    "#calculations \n",
    "average_math_score = schoo_type['math_score'].mean()\n",
    "average_reading_score = schoo_type['math_score'].mean()\n",
    "pass_math_percent = sxhool_Student_data[sxhool_Student_data['math_score'] >= 70].groupby('type')['Student ID'].count()/schoo_type['Student ID'].count()*100\n",
    "pass_read_percent = sxhool_Student_data[sxhool_Student_data['reading_score'] >= 70].groupby('type')['Student ID'].count()/schoo_type['Student ID'].count()*100\n",
    "overall = sxhool_Student_data[(sxhool_Student_data['reading_score'] >= 70) & (sxhool_Student_data['math_score'] >= 70)].groupby('type')['Student ID'].count()/schoo_type['Student ID'].count()*100\n",
    "\n",
    "# df build            \n",
    "scores_school_type = pd.DataFrame({\"Average Math Score\": average_math_score,\"Average Reading Score\": average_reading_score,'% Passing Math': pass_math_percent,'% Passing Reading': pass_read_percent,\"% Overall Passing\": overall})\n",
    "  \n",
    "#reorder columns\n",
    "scores_school_type = scores_school_type [[\"Average Math Score\",\"Average Reading Score\",'% Passing Math','% Passing Reading',\"% Overall Passing\"]]\n",
    "scores_school_type.index.name = \"Type of School\"\n",
    "\n",
    "#formating\n",
    "scores_school_type.style.format({'Average Math Score': '{:.2f}', 'Average Reading Score': '{:.2f}', '% Passing Math': '{:.2f}', '% Passing Reading':'{:.2f}', '% Overall Passing': '{:.2f}'})"
   ]
  },
  {
   "cell_type": "code",
   "execution_count": null,
   "metadata": {},
   "outputs": [],
   "source": []
  },
  {
   "cell_type": "code",
   "execution_count": null,
   "metadata": {},
   "outputs": [],
   "source": []
  },
  {
   "cell_type": "code",
   "execution_count": null,
   "metadata": {},
   "outputs": [],
   "source": []
  },
  {
   "cell_type": "code",
   "execution_count": null,
   "metadata": {},
   "outputs": [],
   "source": []
  },
  {
   "cell_type": "code",
   "execution_count": null,
   "metadata": {},
   "outputs": [],
   "source": []
  },
  {
   "cell_type": "code",
   "execution_count": null,
   "metadata": {},
   "outputs": [],
   "source": []
  }
 ],
 "metadata": {
  "anaconda-cloud": {},
  "kernel_info": {
   "name": "python3"
  },
  "kernelspec": {
   "display_name": "Python 3 (ipykernel)",
   "language": "python",
   "name": "python3"
  },
  "language_info": {
   "codemirror_mode": {
    "name": "ipython",
    "version": 3
   },
   "file_extension": ".py",
   "mimetype": "text/x-python",
   "name": "python",
   "nbconvert_exporter": "python",
   "pygments_lexer": "ipython3",
   "version": "3.8.13"
  },
  "latex_envs": {
   "LaTeX_envs_menu_present": true,
   "autoclose": false,
   "autocomplete": true,
   "bibliofile": "biblio.bib",
   "cite_by": "apalike",
   "current_citInitial": 1,
   "eqLabelWithNumbers": true,
   "eqNumInitial": 1,
   "hotkeys": {
    "equation": "Ctrl-E",
    "itemize": "Ctrl-I"
   },
   "labels_anchors": false,
   "latex_user_defs": false,
   "report_style_numbering": false,
   "user_envs_cfg": false
  },
  "nteract": {
   "version": "0.8.4"
  },
  "vscode": {
   "interpreter": {
    "hash": "f7640aa6d6c32e9772b1be5e5ae5e50f8d8eff92bbdcd9b73d2e057bd18c7a89"
   }
  }
 },
 "nbformat": 4,
 "nbformat_minor": 1
}
